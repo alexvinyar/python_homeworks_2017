{
 "cells": [
  {
   "cell_type": "markdown",
   "metadata": {},
   "source": [
    "# Homework: Titanic survival dataset exploration"
   ]
  },
  {
   "cell_type": "markdown",
   "metadata": {},
   "source": [
    "Your goal is to fill #TODO places with your code and answer questions  \n",
    "\n",
    "Here are some features that can help you determine who survived in Titanic.  \n",
    "Our quality metric - area under the roc curve"
   ]
  },
  {
   "cell_type": "code",
   "execution_count": 1,
   "metadata": {
    "collapsed": true
   },
   "outputs": [],
   "source": [
    "import pandas as pd\n",
    "import numpy as np\n",
    "import matplotlib.pyplot as plt\n",
    "import seaborn as sns\n",
    "\n",
    "%matplotlib inline\n",
    "\n",
    "SEED = 1337\n",
    "# !!you should use that seed in all models which accepts random_state"
   ]
  },
  {
   "cell_type": "code",
   "execution_count": 38,
   "metadata": {
    "collapsed": false
   },
   "outputs": [
    {
     "data": {
      "text/html": [
       "<div>\n",
       "<table border=\"1\" class=\"dataframe\">\n",
       "  <thead>\n",
       "    <tr style=\"text-align: right;\">\n",
       "      <th></th>\n",
       "      <th>Survived</th>\n",
       "      <th>Pclass</th>\n",
       "      <th>Name</th>\n",
       "      <th>Sex</th>\n",
       "      <th>Age</th>\n",
       "      <th>SibSp</th>\n",
       "      <th>Parch</th>\n",
       "      <th>Ticket</th>\n",
       "      <th>Fare</th>\n",
       "      <th>Cabin</th>\n",
       "      <th>Embarked</th>\n",
       "    </tr>\n",
       "    <tr>\n",
       "      <th>PassengerId</th>\n",
       "      <th></th>\n",
       "      <th></th>\n",
       "      <th></th>\n",
       "      <th></th>\n",
       "      <th></th>\n",
       "      <th></th>\n",
       "      <th></th>\n",
       "      <th></th>\n",
       "      <th></th>\n",
       "      <th></th>\n",
       "      <th></th>\n",
       "    </tr>\n",
       "  </thead>\n",
       "  <tbody>\n",
       "    <tr>\n",
       "      <th>1</th>\n",
       "      <td>0</td>\n",
       "      <td>3</td>\n",
       "      <td>Braund, Mr. Owen Harris</td>\n",
       "      <td>male</td>\n",
       "      <td>22.0</td>\n",
       "      <td>1</td>\n",
       "      <td>0</td>\n",
       "      <td>A/5 21171</td>\n",
       "      <td>7.2500</td>\n",
       "      <td>NaN</td>\n",
       "      <td>S</td>\n",
       "    </tr>\n",
       "    <tr>\n",
       "      <th>2</th>\n",
       "      <td>1</td>\n",
       "      <td>1</td>\n",
       "      <td>Cumings, Mrs. John Bradley (Florence Briggs Th...</td>\n",
       "      <td>female</td>\n",
       "      <td>38.0</td>\n",
       "      <td>1</td>\n",
       "      <td>0</td>\n",
       "      <td>PC 17599</td>\n",
       "      <td>71.2833</td>\n",
       "      <td>C85</td>\n",
       "      <td>C</td>\n",
       "    </tr>\n",
       "    <tr>\n",
       "      <th>3</th>\n",
       "      <td>1</td>\n",
       "      <td>3</td>\n",
       "      <td>Heikkinen, Miss. Laina</td>\n",
       "      <td>female</td>\n",
       "      <td>26.0</td>\n",
       "      <td>0</td>\n",
       "      <td>0</td>\n",
       "      <td>STON/O2. 3101282</td>\n",
       "      <td>7.9250</td>\n",
       "      <td>NaN</td>\n",
       "      <td>S</td>\n",
       "    </tr>\n",
       "    <tr>\n",
       "      <th>4</th>\n",
       "      <td>1</td>\n",
       "      <td>1</td>\n",
       "      <td>Futrelle, Mrs. Jacques Heath (Lily May Peel)</td>\n",
       "      <td>female</td>\n",
       "      <td>35.0</td>\n",
       "      <td>1</td>\n",
       "      <td>0</td>\n",
       "      <td>113803</td>\n",
       "      <td>53.1000</td>\n",
       "      <td>C123</td>\n",
       "      <td>S</td>\n",
       "    </tr>\n",
       "    <tr>\n",
       "      <th>5</th>\n",
       "      <td>0</td>\n",
       "      <td>3</td>\n",
       "      <td>Allen, Mr. William Henry</td>\n",
       "      <td>male</td>\n",
       "      <td>35.0</td>\n",
       "      <td>0</td>\n",
       "      <td>0</td>\n",
       "      <td>373450</td>\n",
       "      <td>8.0500</td>\n",
       "      <td>NaN</td>\n",
       "      <td>S</td>\n",
       "    </tr>\n",
       "  </tbody>\n",
       "</table>\n",
       "</div>"
      ],
      "text/plain": [
       "             Survived  Pclass  \\\n",
       "PassengerId                     \n",
       "1                   0       3   \n",
       "2                   1       1   \n",
       "3                   1       3   \n",
       "4                   1       1   \n",
       "5                   0       3   \n",
       "\n",
       "                                                          Name     Sex   Age  \\\n",
       "PassengerId                                                                    \n",
       "1                                      Braund, Mr. Owen Harris    male  22.0   \n",
       "2            Cumings, Mrs. John Bradley (Florence Briggs Th...  female  38.0   \n",
       "3                                       Heikkinen, Miss. Laina  female  26.0   \n",
       "4                 Futrelle, Mrs. Jacques Heath (Lily May Peel)  female  35.0   \n",
       "5                                     Allen, Mr. William Henry    male  35.0   \n",
       "\n",
       "             SibSp  Parch            Ticket     Fare Cabin Embarked  \n",
       "PassengerId                                                          \n",
       "1                1      0         A/5 21171   7.2500   NaN        S  \n",
       "2                1      0          PC 17599  71.2833   C85        C  \n",
       "3                0      0  STON/O2. 3101282   7.9250   NaN        S  \n",
       "4                1      0            113803  53.1000  C123        S  \n",
       "5                0      0            373450   8.0500   NaN        S  "
      ]
     },
     "execution_count": 38,
     "metadata": {},
     "output_type": "execute_result"
    }
   ],
   "source": [
    "df = pd.read_csv('./train.csv', index_col=0)\n",
    "df.head()"
   ]
  },
  {
   "cell_type": "markdown",
   "metadata": {},
   "source": [
    "## fill missing values"
   ]
  },
  {
   "cell_type": "code",
   "execution_count": 39,
   "metadata": {
    "collapsed": true
   },
   "outputs": [],
   "source": [
    "# TODO 1:\n",
    "# encode Sex column\n",
    "# hint: use LabelEncoder\n",
    "from sklearn.preprocessing import LabelEncoder\n",
    "\n",
    "df['Sex'] = LabelEncoder().fit_transform(df['Sex'])\n"
   ]
  },
  {
   "cell_type": "code",
   "execution_count": 40,
   "metadata": {
    "collapsed": false
   },
   "outputs": [
    {
     "name": "stdout",
     "output_type": "stream",
     "text": [
      "Survived 0\n",
      "Pclass 0\n",
      "Name 0\n",
      "Sex 0\n",
      "Age 177\n",
      "SibSp 0\n",
      "Parch 0\n",
      "Ticket 0\n",
      "Fare 0\n",
      "Cabin 687\n",
      "Embarked 2\n"
     ]
    }
   ],
   "source": [
    "# print columns with missing values\n",
    "for name in df.columns:\n",
    "    print(name, np.sum(pd.isnull(df[name])))"
   ]
  },
  {
   "cell_type": "code",
   "execution_count": 41,
   "metadata": {
    "collapsed": true
   },
   "outputs": [],
   "source": [
    "# Replace missing values with \"unkown\"\n",
    "df.loc[df.Cabin.isnull(), 'Cabin'] = 'unknown'\n",
    "\n",
    "# fill Fare with median value\n",
    "df.loc[ np.isnan(df['Fare']), 'Fare'] = df['Fare'].median()\n",
    "\n",
    "# TODO 2\n",
    "# Replace missing values in Embarked column with most common port\n",
    "# hint: use Series.mode method\n",
    "\n",
    "df.loc[ df.Embarked.isnull(), 'Embarked' ] = df['Embarked'].mode()[0]"
   ]
  },
  {
   "cell_type": "code",
   "execution_count": 42,
   "metadata": {
    "collapsed": false,
    "scrolled": false
   },
   "outputs": [
    {
     "name": "stderr",
     "output_type": "stream",
     "text": [
      "C:\\Users\\Alexey\\Anaconda3\\lib\\site-packages\\ipykernel\\__main__.py:12: SettingWithCopyWarning: \n",
      "A value is trying to be set on a copy of a slice from a DataFrame.\n",
      "Try using .loc[row_indexer,col_indexer] = value instead\n",
      "\n",
      "See the caveats in the documentation: http://pandas.pydata.org/pandas-docs/stable/indexing.html#indexing-view-versus-copy\n"
     ]
    },
    {
     "name": "stdout",
     "output_type": "stream",
     "text": [
      "train age 714\n",
      "test age 177\n"
     ]
    }
   ],
   "source": [
    "# TODO 3\n",
    "# train Random Forest regression model to fill missing values in Age column\n",
    "# use  100 estimators, set oob_score in True, other params by default\n",
    "from sklearn.ensemble import RandomForestRegressor\n",
    "from sklearn import preprocessing\n",
    "\n",
    "age_columns = ['Age', 'Survived', 'Pclass', 'Sex', 'SibSp', 'Parch', \n",
    "       'Fare', 'Embarked']\n",
    "\n",
    "age_df = df[age_columns]\n",
    "\n",
    "age_df['Embarked'] = preprocessing.LabelEncoder().fit_transform(age_df['Embarked'])\n",
    "train_df = age_df.loc[age_df.Age.notnull()]\n",
    "test_df = age_df.loc[age_df.Age.isnull()]\n",
    "print('train age', train_df.shape[0])\n",
    "print('test age', test_df.shape[0])\n",
    "\n",
    "f = RandomForestRegressor(n_estimators=100,random_state=SEED,oob_score=True)\n",
    "f.fit(train_df.drop('Age',axis=1),train_df['Age'])\n",
    "df.loc[df.Age.isnull(), 'Age'] = f.predict(test_df.drop('Age',axis=1))"
   ]
  },
  {
   "cell_type": "code",
   "execution_count": 43,
   "metadata": {
    "collapsed": false
   },
   "outputs": [
    {
     "data": {
      "text/plain": [
       "0.21991667211500132"
      ]
     },
     "execution_count": 43,
     "metadata": {},
     "output_type": "execute_result"
    }
   ],
   "source": [
    "f.oob_score_"
   ]
  },
  {
   "cell_type": "markdown",
   "metadata": {},
   "source": [
    "### Question 1: what is the oob_score of trained model?\n",
    "0.21991667211500132"
   ]
  },
  {
   "cell_type": "markdown",
   "metadata": {},
   "source": [
    "## feature transformation"
   ]
  },
  {
   "cell_type": "code",
   "execution_count": 44,
   "metadata": {
    "collapsed": false
   },
   "outputs": [],
   "source": [
    "# TODO 4\n",
    "# Create a dataframe of dummy variables for each distinct value of Embarked\n",
    "# hint: use DataFrame.get_dummies method\n",
    "\n",
    "# Rename the columns from 'S', 'C', 'Q' to 'Embarked_S', 'Embarked_C', 'Embarked_Q'\n",
    "# hint: use pandas.rename method\n",
    "\n",
    "# Add the new dummy variables back to the original data set\n",
    "# hint: use pandas.concat method\n",
    "\n",
    "dummy_embarked = pd.get_dummies(df['Embarked'])\n",
    "dummy_embarked = dummy_embarked.rename(index=int,columns={'S':'Embarked_S','C':'Embarked_C','Q':'Embarked_Q'})\n",
    "\n",
    "df = pd.concat((df,dummy_embarked),axis=1)\n",
    "\n",
    "\n",
    "df['Embarked'] = preprocessing.LabelEncoder().fit_transform(df['Embarked'])\n"
   ]
  },
  {
   "cell_type": "code",
   "execution_count": 45,
   "metadata": {
    "collapsed": false
   },
   "outputs": [],
   "source": [
    "# TODO 5\n",
    "\n",
    "# create feature for the alphabetical part of the cabin number\n",
    "# hint: use re module\n",
    " \n",
    "# convert the distinct cabin letters with incremental integer values\n",
    "# hint: use pandas.factorize method\n",
    "import re\n",
    "\n",
    "letters = [re.findall('[A-Za-z]',x)[0] for x in df['Cabin']]\n",
    "df['CabinLetter'] = pd.factorize(letters,sort=True)[0]\n",
    "\n",
    "df['Cabin'] = preprocessing.LabelEncoder().fit_transform(df['Cabin'])"
   ]
  },
  {
   "cell_type": "code",
   "execution_count": 46,
   "metadata": {
    "collapsed": false
   },
   "outputs": [],
   "source": [
    "# TODO 6\n",
    "\n",
    "# Divide all fares into quartiles\n",
    "# hint: use pandas.qcut\n",
    "\n",
    "# create dummies from the result and add tham to dataset\n",
    "fare_q = pd.qcut(df['Fare'],q=4)\n",
    "fare_dummies = pd.get_dummies(fare_q)\n",
    "df = pd.concat((df,fare_dummies),axis=1)"
   ]
  },
  {
   "cell_type": "code",
   "execution_count": 47,
   "metadata": {
    "collapsed": false
   },
   "outputs": [
    {
     "data": {
      "text/plain": [
       "(891, 17)"
      ]
     },
     "execution_count": 47,
     "metadata": {},
     "output_type": "execute_result"
    }
   ],
   "source": [
    "df = df.drop(['Name', 'Ticket'], axis=1)\n",
    "df.shape"
   ]
  },
  {
   "cell_type": "code",
   "execution_count": 51,
   "metadata": {
    "collapsed": false
   },
   "outputs": [
    {
     "name": "stdout",
     "output_type": "stream",
     "text": [
      "1 0.747592516494\n",
      "2 0.955181710179\n",
      "3 0.998903118361\n"
     ]
    }
   ],
   "source": [
    "# TODO 7\n",
    "# make dimension reduction with PCA, leave enough components to explain 98% variance of the data, \n",
    "# other params by default. Project dataset on these components\n",
    "# Of course, you should not project your target variable\n",
    "from sklearn.decomposition import PCA\n",
    "\n",
    "X = df.drop('Survived',axis=1)\n",
    "y = df['Survived']\n",
    "var = 0\n",
    "i = 1\n",
    "while var < 0.98:\n",
    "    m = PCA(n_components=i)\n",
    "    m.fit(X)\n",
    "    var = sum(m.explained_variance_ratio_)\n",
    "    print(i,var)\n",
    "    i += 1\n",
    "X_pca = m.transform(X)"
   ]
  },
  {
   "cell_type": "markdown",
   "metadata": {},
   "source": [
    "### Question 2: how many components are in PCA?\n",
    "3"
   ]
  },
  {
   "cell_type": "code",
   "execution_count": 57,
   "metadata": {
    "collapsed": false
   },
   "outputs": [
    {
     "data": {
      "image/png": "[encoded data removed]",
      "text/plain": [
       "<matplotlib.figure.Figure at 0xbd999b0>"
      ]
     },
     "metadata": {},
     "output_type": "display_data"
    }
   ],
   "source": [
    "# TODO 8\n",
    "# plot feature importances from Random Forest\n",
    "from sklearn.ensemble import RandomForestClassifier\n",
    "from sklearn.feature_selection import SelectFromModel\n",
    "\n",
    "\n",
    "X = df.drop('Survived', axis=1)\n",
    "y = df.Survived.values\n",
    "features_list = X.columns\n",
    "X = X.as_matrix()\n",
    " \n",
    "# Train Random Forest Classifier on datasert with 5000 trees, other params by default\n",
    "# get feature importances from model\n",
    "f = RandomForestClassifier(n_estimators=5000,random_state=SEED)\n",
    "f.fit(X,y)\n",
    "feature_importance = f.feature_importances_\n",
    " \n",
    "# make importances relative to max importance\n",
    "feature_importance = feature_importance / feature_importance.max()\n",
    " \n",
    "# A threshold below which to drop features from the final data set. Specifically, this number represents\n",
    "# the percentage of the most important feature's importance value\n",
    "fi_threshold = 0.10\n",
    " \n",
    "# Get the indexes of all features over the importance threshold\n",
    "\n",
    "important_idx = [i for i in range (len(feature_importance)) if feature_importance[i] > fi_threshold]\n",
    " \n",
    "# Create a list of all the feature names above the importance threshold\n",
    "important_features = features_list[important_idx]\n",
    " \n",
    "# Get the sorted indexes of important features\n",
    "sorted_idx = np.argsort(feature_importance[important_idx])[::-1]\n",
    " \n",
    "\n",
    "pos = np.arange(sorted_idx.shape[0]) + .5\n",
    "plt.subplot(1, 2, 2)\n",
    "plt.barh(pos, feature_importance[important_idx][sorted_idx[::-1]], align='center')\n",
    "plt.yticks(pos, important_features[sorted_idx[::-1]])\n",
    "plt.xlabel('Relative Importance')\n",
    "plt.title('Variable Importance')\n",
    "plt.draw()\n",
    "plt.show()\n",
    " \n",
    "# Remove non-important features from the feature set\n",
    "X = X[:,important_idx]"
   ]
  },
  {
   "cell_type": "markdown",
   "metadata": {},
   "source": [
    "### Question 3: What are 4 top most important features?\n",
    "Age, Sex, Fare, Cabin"
   ]
  },
  {
   "cell_type": "code",
   "execution_count": 58,
   "metadata": {
    "collapsed": false
   },
   "outputs": [
    {
     "data": {
      "text/plain": [
       "(891, 11)"
      ]
     },
     "execution_count": 58,
     "metadata": {},
     "output_type": "execute_result"
    }
   ],
   "source": [
    "# stack features\n",
    "\n",
    "X = np.hstack([X, X_pca])\n",
    "X.shape"
   ]
  },
  {
   "cell_type": "code",
   "execution_count": 59,
   "metadata": {
    "collapsed": false
   },
   "outputs": [
    {
     "data": {
      "text/plain": [
       "<matplotlib.legend.Legend at 0xbd9a4a8>"
      ]
     },
     "execution_count": 59,
     "metadata": {},
     "output_type": "execute_result"
    },
    {
     "data": {
      "image/png": "[encoded data removed]",
      "text/plain": [
       "<matplotlib.figure.Figure at 0xbdf9b70>"
      ]
     },
     "metadata": {},
     "output_type": "display_data"
    }
   ],
   "source": [
    "# TODO 9 \n",
    "# plot learning curves for Random Forest Model (for train and test)\n",
    "# hint: look at sklearn.learning_curve module. Look at the docs\n",
    "# use Random Forest with 500 trees, 10-fold cross-validation for roc_auc scoring.\n",
    "# \n",
    "train_sizes = np.linspace(0.1, 1., 10)\n",
    "from sklearn.model_selection import learning_curve\n",
    "\n",
    "# http://scikit-learn.org/stable/auto_examples/model_selection/plot_learning_curve.html\n",
    "train_sizes, train_scores, test_scores = learning_curve(RandomForestClassifier(n_estimators=500,random_state=SEED),\n",
    "                                                        X, y, cv=10, train_sizes=train_sizes, scoring='roc_auc')\n",
    "train_scores_mean = np.mean(train_scores, axis=1)\n",
    "test_scores_mean = np.mean(test_scores, axis=1)\n",
    "plt.figure()\n",
    "plt.plot(train_sizes, train_scores_mean, 'o-', color=\"r\", label=\"Training score\")\n",
    "plt.plot(train_sizes, test_scores_mean, 'o-', color=\"g\", label=\"Cross-validation score\")\n",
    "plt.legend(loc=\"best\")"
   ]
  },
  {
   "cell_type": "code",
   "execution_count": 60,
   "metadata": {
    "collapsed": false
   },
   "outputs": [
    {
     "data": {
      "image/png": "[encoded data removed]",
      "text/plain": [
       "<matplotlib.figure.Figure at 0xbd94400>"
      ]
     },
     "metadata": {},
     "output_type": "display_data"
    }
   ],
   "source": [
    "# TODO 10\n",
    "# plot roc auc curve for Random Forest for test dataset\n",
    "# hint: use roc_curve and auc functions from sklearn.metrics\n",
    "# use Random Forest with 5000 trees\n",
    "# use test_size=0.25\n",
    "\n",
    "from sklearn.metrics import roc_curve, auc\n",
    "from sklearn.model_selection import train_test_split\n",
    "\n",
    "X_train, X_test, y_train, y_test = train_test_split(X, y, test_size=0.25, random_state=SEED)\n",
    "\n",
    "f = RandomForestClassifier(n_estimators=5000,random_state=SEED)\n",
    "f.fit(X_train,y_train)\n",
    "y_pred = f.predict_proba(X_test)[:,1]\n",
    "\n",
    "fpr, tpr, thresholds = roc_curve(y_test, y_pred)\n",
    "auc_score = auc(fpr, tpr)\n",
    "\n",
    "plt.figure()\n",
    "plt.plot(fpr, tpr,label='ROC curve (area = %0.2f)' % auc_score)\n",
    "plt.legend(loc=\"best\")\n",
    "plt.show()"
   ]
  },
  {
   "cell_type": "markdown",
   "metadata": {},
   "source": [
    "### Question 4: What is the roc auc score on test dataset ? "
   ]
  },
  {
   "cell_type": "code",
   "execution_count": 61,
   "metadata": {
    "collapsed": false
   },
   "outputs": [
    {
     "data": {
      "text/plain": [
       "0.87014089288745544"
      ]
     },
     "execution_count": 61,
     "metadata": {},
     "output_type": "execute_result"
    }
   ],
   "source": [
    "from sklearn.metrics import roc_auc_score\n",
    "roc_auc_score(y_test, y_pred)"
   ]
  }
 ],
 "metadata": {
  "kernelspec": {
   "display_name": "Python [conda root]",
   "language": "python",
   "name": "conda-root-py"
  },
  "language_info": {
   "codemirror_mode": {
    "name": "ipython",
    "version": 3
   },
   "file_extension": ".py",
   "mimetype": "text/x-python",
   "name": "python",
   "nbconvert_exporter": "python",
   "pygments_lexer": "ipython3",
   "version": "3.5.2"
  }
 },
 "nbformat": 4,
 "nbformat_minor": 2
}
